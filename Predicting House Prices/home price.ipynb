{
 "cells": [
  {
   "cell_type": "code",
   "execution_count": 110,
   "metadata": {},
   "outputs": [
    {
     "name": "stdout",
     "output_type": "stream",
     "text": [
      "Populating the interactive namespace from numpy and matplotlib\n"
     ]
    }
   ],
   "source": [
    "#Import packages\n",
    "import os\n",
    "\n",
    "import numpy as np\n",
    "import pandas as pd\n",
    "import datetime as dt\n",
    "import pandas_profiling\n",
    "import re as re\n",
    "\n",
    "import scipy.stats as stats\n",
    "import matplotlib.pyplot as plt\n",
    "%pylab inline\n",
    "import seaborn as sns\n",
    "\n",
    "from sklearn.model_selection import train_test_split\n",
    "import sklearn.metrics as metrics\n",
    "import sklearn.preprocessing as preprocess\n",
    "import sklearn.feature_selection as feature_selection\n",
    "\n",
    "import statsmodels as st\n",
    "import statsmodels.formula.api as smp\n",
    "from sklearn.linear_model import LinearRegression"
   ]
  },
  {
   "cell_type": "code",
   "execution_count": 111,
   "metadata": {},
   "outputs": [],
   "source": [
    "data = pd.read_csv(\"House_Prices.csv\",sep=\",\")"
   ]
  },
  {
   "cell_type": "code",
   "execution_count": 112,
   "metadata": {},
   "outputs": [
    {
     "data": {
      "text/html": [
       "<div>\n",
       "<style scoped>\n",
       "    .dataframe tbody tr th:only-of-type {\n",
       "        vertical-align: middle;\n",
       "    }\n",
       "\n",
       "    .dataframe tbody tr th {\n",
       "        vertical-align: top;\n",
       "    }\n",
       "\n",
       "    .dataframe thead th {\n",
       "        text-align: right;\n",
       "    }\n",
       "</style>\n",
       "<table border=\"1\" class=\"dataframe\">\n",
       "  <thead>\n",
       "    <tr style=\"text-align: right;\">\n",
       "      <th></th>\n",
       "      <th>Home</th>\n",
       "      <th>Price</th>\n",
       "      <th>SqFt</th>\n",
       "      <th>Bedrooms</th>\n",
       "      <th>Bathrooms</th>\n",
       "      <th>Offers</th>\n",
       "      <th>Brick</th>\n",
       "      <th>Neighborhood</th>\n",
       "    </tr>\n",
       "  </thead>\n",
       "  <tbody>\n",
       "    <tr>\n",
       "      <td>0</td>\n",
       "      <td>1</td>\n",
       "      <td>114300</td>\n",
       "      <td>1790</td>\n",
       "      <td>2</td>\n",
       "      <td>2</td>\n",
       "      <td>2</td>\n",
       "      <td>No</td>\n",
       "      <td>East</td>\n",
       "    </tr>\n",
       "    <tr>\n",
       "      <td>1</td>\n",
       "      <td>2</td>\n",
       "      <td>114200</td>\n",
       "      <td>2030</td>\n",
       "      <td>4</td>\n",
       "      <td>2</td>\n",
       "      <td>3</td>\n",
       "      <td>No</td>\n",
       "      <td>East</td>\n",
       "    </tr>\n",
       "    <tr>\n",
       "      <td>2</td>\n",
       "      <td>3</td>\n",
       "      <td>114800</td>\n",
       "      <td>1740</td>\n",
       "      <td>3</td>\n",
       "      <td>2</td>\n",
       "      <td>1</td>\n",
       "      <td>No</td>\n",
       "      <td>East</td>\n",
       "    </tr>\n",
       "    <tr>\n",
       "      <td>3</td>\n",
       "      <td>4</td>\n",
       "      <td>94700</td>\n",
       "      <td>1980</td>\n",
       "      <td>3</td>\n",
       "      <td>2</td>\n",
       "      <td>3</td>\n",
       "      <td>No</td>\n",
       "      <td>East</td>\n",
       "    </tr>\n",
       "    <tr>\n",
       "      <td>4</td>\n",
       "      <td>5</td>\n",
       "      <td>119800</td>\n",
       "      <td>2130</td>\n",
       "      <td>3</td>\n",
       "      <td>3</td>\n",
       "      <td>3</td>\n",
       "      <td>No</td>\n",
       "      <td>East</td>\n",
       "    </tr>\n",
       "  </tbody>\n",
       "</table>\n",
       "</div>"
      ],
      "text/plain": [
       "   Home   Price  SqFt  Bedrooms  Bathrooms  Offers Brick Neighborhood\n",
       "0     1  114300  1790         2          2       2    No         East\n",
       "1     2  114200  2030         4          2       3    No         East\n",
       "2     3  114800  1740         3          2       1    No         East\n",
       "3     4   94700  1980         3          2       3    No         East\n",
       "4     5  119800  2130         3          3       3    No         East"
      ]
     },
     "metadata": {},
     "output_type": "display_data"
    }
   ],
   "source": [
    "display(data.head())"
   ]
  },
  {
   "cell_type": "code",
   "execution_count": 113,
   "metadata": {},
   "outputs": [],
   "source": [
    "# profile_report = pandas_profiling.ProfileReport(data)"
   ]
  },
  {
   "cell_type": "code",
   "execution_count": 114,
   "metadata": {},
   "outputs": [],
   "source": [
    "# profile_report.to_file('profile_report.html')"
   ]
  },
  {
   "cell_type": "code",
   "execution_count": 115,
   "metadata": {},
   "outputs": [
    {
     "name": "stdout",
     "output_type": "stream",
     "text": [
      "Total Columns :  128\n",
      "Columns are :  Index(['Home', 'Price', 'SqFt', 'Bedrooms', 'Bathrooms', 'Offers', 'Brick',\n",
      "       'Neighborhood'],\n",
      "      dtype='object')\n"
     ]
    }
   ],
   "source": [
    "# 1. renaming columns\n",
    "print(\"Total Columns : \",len(data))\n",
    "print(\"Columns are : \",data.columns)"
   ]
  },
  {
   "cell_type": "code",
   "execution_count": 116,
   "metadata": {},
   "outputs": [
    {
     "name": "stdout",
     "output_type": "stream",
     "text": [
      "<class 'pandas.core.frame.DataFrame'>\n",
      "RangeIndex: 128 entries, 0 to 127\n",
      "Data columns (total 7 columns):\n",
      "Price           128 non-null int64\n",
      "SqFt            128 non-null int64\n",
      "Bedrooms        128 non-null int64\n",
      "Bathrooms       128 non-null int64\n",
      "Offers          128 non-null int64\n",
      "Brick           128 non-null object\n",
      "Neighborhood    128 non-null object\n",
      "dtypes: int64(5), object(2)\n",
      "memory usage: 7.1+ KB\n"
     ]
    }
   ],
   "source": [
    "home.info()"
   ]
  },
  {
   "cell_type": "code",
   "execution_count": 117,
   "metadata": {},
   "outputs": [],
   "source": [
    "# 1. Idendify X and Y variable\n",
    "# Y = Price\n",
    "# X = 'SqFt', 'Bedrooms', 'Bathrooms', 'Offers', 'Brick', 'Neighborhood'"
   ]
  },
  {
   "cell_type": "code",
   "execution_count": 118,
   "metadata": {},
   "outputs": [],
   "source": [
    "# 2. Y varaible should be follow normal distribution\n",
    "#   there are two methods to check normal distribution\n",
    "#     - to check use sns displot whether is following normal distribution or not\n",
    "#     - another method check mean==median==mode should nearly equal"
   ]
  },
  {
   "cell_type": "code",
   "execution_count": 119,
   "metadata": {},
   "outputs": [
    {
     "data": {
      "text/plain": [
       "<matplotlib.axes._subplots.AxesSubplot at 0x7fec918f0b10>"
      ]
     },
     "execution_count": 119,
     "metadata": {},
     "output_type": "execute_result"
    },
    {
     "data": {
      "image/png": "[encoded data removed]",
      "text/plain": [
       "<Figure size 432x288 with 1 Axes>"
      ]
     },
     "metadata": {
      "needs_background": "light"
     },
     "output_type": "display_data"
    }
   ],
   "source": [
    "data.Price.hist(bins=10)"
   ]
  },
  {
   "cell_type": "code",
   "execution_count": 120,
   "metadata": {},
   "outputs": [
    {
     "data": {
      "text/plain": [
       "<matplotlib.axes._subplots.AxesSubplot at 0x7fec932e1f50>"
      ]
     },
     "execution_count": 120,
     "metadata": {},
     "output_type": "execute_result"
    },
    {
     "data": {
      "image/png": "[encoded data removed]",
      "text/plain": [
       "<Figure size 432x288 with 1 Axes>"
      ]
     },
     "metadata": {
      "needs_background": "light"
     },
     "output_type": "display_data"
    }
   ],
   "source": [
    "sns.distplot(data.Price)"
   ]
  },
  {
   "cell_type": "code",
   "execution_count": 121,
   "metadata": {},
   "outputs": [
    {
     "data": {
      "text/plain": [
       "<matplotlib.axes._subplots.AxesSubplot at 0x7fec93012990>"
      ]
     },
     "execution_count": 121,
     "metadata": {},
     "output_type": "execute_result"
    },
    {
     "data": {
      "image/png": "[encoded data removed]",
      "text/plain": [
       "<Figure size 432x288 with 1 Axes>"
      ]
     },
     "metadata": {
      "needs_background": "light"
     },
     "output_type": "display_data"
    }
   ],
   "source": [
    "sns.distplot(np.log(data.Price))"
   ]
  },
  {
   "cell_type": "code",
   "execution_count": 122,
   "metadata": {},
   "outputs": [
    {
     "name": "stdout",
     "output_type": "stream",
     "text": [
      "before log\n",
      "mean of price : 130427.34375\n",
      "median of price : 125950.0\n",
      "mode of price : 0    103200\n",
      "1    105600\n",
      "2    117800\n",
      "3    125700\n",
      "4    129800\n",
      "dtype: int64\n",
      "after log\n",
      "mean of price : 11.757661963940532\n",
      "median of price : 11.743638311833795\n",
      "mode of price : 0    11.544424\n",
      "1    11.567414\n",
      "2    11.676744\n",
      "3    11.741653\n",
      "4    11.773750\n",
      "dtype: float64\n"
     ]
    }
   ],
   "source": [
    "#     - another method check mean==median==mode should nearly equal\n",
    "print(\"before log\")\n",
    "print(\"mean of price :\",data.Price.mean())\n",
    "print(\"median of price :\",data.Price.median())\n",
    "print(\"mode of price :\",data.Price.mode())\n",
    "\n",
    "print(\"after log\")\n",
    "print(\"mean of price :\",np.log(data.Price).mean())\n",
    "print(\"median of price :\",np.log(data.Price).median())\n",
    "print(\"mode of price :\",np.log(data.Price).mode())\n"
   ]
  },
  {
   "cell_type": "code",
   "execution_count": null,
   "metadata": {},
   "outputs": [],
   "source": []
  },
  {
   "cell_type": "code",
   "execution_count": 123,
   "metadata": {},
   "outputs": [
    {
     "name": "stdout",
     "output_type": "stream",
     "text": [
      "<class 'pandas.core.frame.DataFrame'>\n",
      "RangeIndex: 128 entries, 0 to 127\n",
      "Data columns (total 7 columns):\n",
      "Price           128 non-null int64\n",
      "SqFt            128 non-null int64\n",
      "Bedrooms        128 non-null int64\n",
      "Bathrooms       128 non-null int64\n",
      "Offers          128 non-null int64\n",
      "Brick           128 non-null object\n",
      "Neighborhood    128 non-null object\n",
      "dtypes: int64(5), object(2)\n",
      "memory usage: 7.1+ KB\n",
      "None\n"
     ]
    }
   ],
   "source": [
    "# 2. Data types -Any mismatch in data types?\n",
    "print(home.info())\n",
    "home.Brick =np.where(data.Brick=='Yes',1,0).astype(int)"
   ]
  },
  {
   "cell_type": "code",
   "execution_count": 124,
   "metadata": {},
   "outputs": [],
   "source": [
    "# 3. ignore unique value variable\n",
    "#         home removed\n",
    "home = data[['Price', 'SqFt', 'Bedrooms', 'Bathrooms', 'Offers', 'Brick',\n",
    "       'Neighborhood']]"
   ]
  },
  {
   "cell_type": "code",
   "execution_count": 125,
   "metadata": {},
   "outputs": [
    {
     "name": "stdout",
     "output_type": "stream",
     "text": [
      "dropped duplicates\n"
     ]
    },
    {
     "data": {
      "text/html": [
       "<div>\n",
       "<style scoped>\n",
       "    .dataframe tbody tr th:only-of-type {\n",
       "        vertical-align: middle;\n",
       "    }\n",
       "\n",
       "    .dataframe tbody tr th {\n",
       "        vertical-align: top;\n",
       "    }\n",
       "\n",
       "    .dataframe thead th {\n",
       "        text-align: right;\n",
       "    }\n",
       "</style>\n",
       "<table border=\"1\" class=\"dataframe\">\n",
       "  <thead>\n",
       "    <tr style=\"text-align: right;\">\n",
       "      <th></th>\n",
       "      <th>Price</th>\n",
       "      <th>SqFt</th>\n",
       "      <th>Bedrooms</th>\n",
       "      <th>Bathrooms</th>\n",
       "      <th>Offers</th>\n",
       "      <th>Brick</th>\n",
       "      <th>Neighborhood</th>\n",
       "    </tr>\n",
       "  </thead>\n",
       "  <tbody>\n",
       "    <tr>\n",
       "      <td>0</td>\n",
       "      <td>114300</td>\n",
       "      <td>1790</td>\n",
       "      <td>2</td>\n",
       "      <td>2</td>\n",
       "      <td>2</td>\n",
       "      <td>No</td>\n",
       "      <td>East</td>\n",
       "    </tr>\n",
       "    <tr>\n",
       "      <td>1</td>\n",
       "      <td>114200</td>\n",
       "      <td>2030</td>\n",
       "      <td>4</td>\n",
       "      <td>2</td>\n",
       "      <td>3</td>\n",
       "      <td>No</td>\n",
       "      <td>East</td>\n",
       "    </tr>\n",
       "    <tr>\n",
       "      <td>2</td>\n",
       "      <td>114800</td>\n",
       "      <td>1740</td>\n",
       "      <td>3</td>\n",
       "      <td>2</td>\n",
       "      <td>1</td>\n",
       "      <td>No</td>\n",
       "      <td>East</td>\n",
       "    </tr>\n",
       "    <tr>\n",
       "      <td>3</td>\n",
       "      <td>94700</td>\n",
       "      <td>1980</td>\n",
       "      <td>3</td>\n",
       "      <td>2</td>\n",
       "      <td>3</td>\n",
       "      <td>No</td>\n",
       "      <td>East</td>\n",
       "    </tr>\n",
       "    <tr>\n",
       "      <td>4</td>\n",
       "      <td>119800</td>\n",
       "      <td>2130</td>\n",
       "      <td>3</td>\n",
       "      <td>3</td>\n",
       "      <td>3</td>\n",
       "      <td>No</td>\n",
       "      <td>East</td>\n",
       "    </tr>\n",
       "    <tr>\n",
       "      <td>...</td>\n",
       "      <td>...</td>\n",
       "      <td>...</td>\n",
       "      <td>...</td>\n",
       "      <td>...</td>\n",
       "      <td>...</td>\n",
       "      <td>...</td>\n",
       "      <td>...</td>\n",
       "    </tr>\n",
       "    <tr>\n",
       "      <td>123</td>\n",
       "      <td>119700</td>\n",
       "      <td>1900</td>\n",
       "      <td>3</td>\n",
       "      <td>3</td>\n",
       "      <td>3</td>\n",
       "      <td>Yes</td>\n",
       "      <td>East</td>\n",
       "    </tr>\n",
       "    <tr>\n",
       "      <td>124</td>\n",
       "      <td>147900</td>\n",
       "      <td>2160</td>\n",
       "      <td>4</td>\n",
       "      <td>3</td>\n",
       "      <td>3</td>\n",
       "      <td>Yes</td>\n",
       "      <td>East</td>\n",
       "    </tr>\n",
       "    <tr>\n",
       "      <td>125</td>\n",
       "      <td>113500</td>\n",
       "      <td>2070</td>\n",
       "      <td>2</td>\n",
       "      <td>2</td>\n",
       "      <td>2</td>\n",
       "      <td>No</td>\n",
       "      <td>North</td>\n",
       "    </tr>\n",
       "    <tr>\n",
       "      <td>126</td>\n",
       "      <td>149900</td>\n",
       "      <td>2020</td>\n",
       "      <td>3</td>\n",
       "      <td>3</td>\n",
       "      <td>1</td>\n",
       "      <td>No</td>\n",
       "      <td>West</td>\n",
       "    </tr>\n",
       "    <tr>\n",
       "      <td>127</td>\n",
       "      <td>124600</td>\n",
       "      <td>2250</td>\n",
       "      <td>3</td>\n",
       "      <td>3</td>\n",
       "      <td>4</td>\n",
       "      <td>No</td>\n",
       "      <td>North</td>\n",
       "    </tr>\n",
       "  </tbody>\n",
       "</table>\n",
       "<p>128 rows × 7 columns</p>\n",
       "</div>"
      ],
      "text/plain": [
       "      Price  SqFt  Bedrooms  Bathrooms  Offers Brick Neighborhood\n",
       "0    114300  1790         2          2       2    No         East\n",
       "1    114200  2030         4          2       3    No         East\n",
       "2    114800  1740         3          2       1    No         East\n",
       "3     94700  1980         3          2       3    No         East\n",
       "4    119800  2130         3          3       3    No         East\n",
       "..      ...   ...       ...        ...     ...   ...          ...\n",
       "123  119700  1900         3          3       3   Yes         East\n",
       "124  147900  2160         4          3       3   Yes         East\n",
       "125  113500  2070         2          2       2    No        North\n",
       "126  149900  2020         3          3       1    No         West\n",
       "127  124600  2250         3          3       4    No        North\n",
       "\n",
       "[128 rows x 7 columns]"
      ]
     },
     "execution_count": 125,
     "metadata": {},
     "output_type": "execute_result"
    }
   ],
   "source": [
    "# 10. Does data have any duplicates?\n",
    "# \t\tKey level (one variable or combination of variable)\t\t\n",
    "# \t\tRecord level\t\n",
    "print(\"dropped duplicates\")\n",
    "home.drop_duplicates()"
   ]
  },
  {
   "cell_type": "code",
   "execution_count": 126,
   "metadata": {},
   "outputs": [
    {
     "name": "stdout",
     "output_type": "stream",
     "text": [
      "Total Categorical Columns :  5\n",
      "Columns are :  ['Brick', 'Neighborhood', 'Bathrooms', 'Bedrooms', 'Offers']\n",
      "Total Continous Columns :  2\n",
      "Columns are :  ['Price', 'SqFt']\n"
     ]
    },
    {
     "name": "stderr",
     "output_type": "stream",
     "text": [
      "/home/vijay/anaconda3/lib/python3.7/site-packages/ipykernel_launcher.py:27: FutureWarning: Sorting because non-concatenation axis is not aligned. A future version\n",
      "of pandas will change to not sort by default.\n",
      "\n",
      "To accept the future behavior, pass 'sort=False'.\n",
      "\n",
      "To retain the current behavior and silence the warning, pass 'sort=True'.\n",
      "\n"
     ]
    },
    {
     "data": {
      "text/html": [
       "<div>\n",
       "<style scoped>\n",
       "    .dataframe tbody tr th:only-of-type {\n",
       "        vertical-align: middle;\n",
       "    }\n",
       "\n",
       "    .dataframe tbody tr th {\n",
       "        vertical-align: top;\n",
       "    }\n",
       "\n",
       "    .dataframe thead th {\n",
       "        text-align: right;\n",
       "    }\n",
       "</style>\n",
       "<table border=\"1\" class=\"dataframe\">\n",
       "  <thead>\n",
       "    <tr style=\"text-align: right;\">\n",
       "      <th></th>\n",
       "      <th>N</th>\n",
       "      <th>NMISS</th>\n",
       "      <th>SUM</th>\n",
       "      <th>MEAN</th>\n",
       "      <th>MEDIAN</th>\n",
       "      <th>STD</th>\n",
       "      <th>VAR</th>\n",
       "      <th>MIN</th>\n",
       "      <th>P1</th>\n",
       "      <th>P5</th>\n",
       "      <th>P10</th>\n",
       "      <th>P25</th>\n",
       "      <th>P50</th>\n",
       "      <th>P75</th>\n",
       "      <th>P90</th>\n",
       "      <th>P95</th>\n",
       "      <th>P99</th>\n",
       "      <th>MAX</th>\n",
       "    </tr>\n",
       "  </thead>\n",
       "  <tbody>\n",
       "    <tr>\n",
       "      <td>Price</td>\n",
       "      <td>128.0</td>\n",
       "      <td>0.0</td>\n",
       "      <td>16694700.0</td>\n",
       "      <td>130427.34375</td>\n",
       "      <td>125950.0</td>\n",
       "      <td>26868.770371</td>\n",
       "      <td>7.219308e+08</td>\n",
       "      <td>69100.0</td>\n",
       "      <td>81570.0</td>\n",
       "      <td>91310.0</td>\n",
       "      <td>102020.0</td>\n",
       "      <td>111325.0</td>\n",
       "      <td>125950.0</td>\n",
       "      <td>148250.0</td>\n",
       "      <td>166560.0</td>\n",
       "      <td>179465.0</td>\n",
       "      <td>196476.0</td>\n",
       "      <td>211200.0</td>\n",
       "    </tr>\n",
       "    <tr>\n",
       "      <td>SqFt</td>\n",
       "      <td>128.0</td>\n",
       "      <td>0.0</td>\n",
       "      <td>256120.0</td>\n",
       "      <td>2000.93750</td>\n",
       "      <td>2000.0</td>\n",
       "      <td>211.572431</td>\n",
       "      <td>4.476289e+04</td>\n",
       "      <td>1450.0</td>\n",
       "      <td>1530.8</td>\n",
       "      <td>1664.0</td>\n",
       "      <td>1720.0</td>\n",
       "      <td>1880.0</td>\n",
       "      <td>2000.0</td>\n",
       "      <td>2140.0</td>\n",
       "      <td>2250.0</td>\n",
       "      <td>2368.0</td>\n",
       "      <td>2505.7</td>\n",
       "      <td>2590.0</td>\n",
       "    </tr>\n",
       "    <tr>\n",
       "      <td>Brick</td>\n",
       "      <td>NaN</td>\n",
       "      <td>0.0</td>\n",
       "      <td>NaN</td>\n",
       "      <td>NaN</td>\n",
       "      <td>NaN</td>\n",
       "      <td>NaN</td>\n",
       "      <td>NaN</td>\n",
       "      <td>NaN</td>\n",
       "      <td>NaN</td>\n",
       "      <td>NaN</td>\n",
       "      <td>NaN</td>\n",
       "      <td>NaN</td>\n",
       "      <td>NaN</td>\n",
       "      <td>NaN</td>\n",
       "      <td>NaN</td>\n",
       "      <td>NaN</td>\n",
       "      <td>NaN</td>\n",
       "      <td>NaN</td>\n",
       "    </tr>\n",
       "    <tr>\n",
       "      <td>Neighborhood</td>\n",
       "      <td>NaN</td>\n",
       "      <td>0.0</td>\n",
       "      <td>NaN</td>\n",
       "      <td>NaN</td>\n",
       "      <td>NaN</td>\n",
       "      <td>NaN</td>\n",
       "      <td>NaN</td>\n",
       "      <td>NaN</td>\n",
       "      <td>NaN</td>\n",
       "      <td>NaN</td>\n",
       "      <td>NaN</td>\n",
       "      <td>NaN</td>\n",
       "      <td>NaN</td>\n",
       "      <td>NaN</td>\n",
       "      <td>NaN</td>\n",
       "      <td>NaN</td>\n",
       "      <td>NaN</td>\n",
       "      <td>NaN</td>\n",
       "    </tr>\n",
       "    <tr>\n",
       "      <td>Bathrooms</td>\n",
       "      <td>NaN</td>\n",
       "      <td>0.0</td>\n",
       "      <td>NaN</td>\n",
       "      <td>NaN</td>\n",
       "      <td>NaN</td>\n",
       "      <td>NaN</td>\n",
       "      <td>NaN</td>\n",
       "      <td>NaN</td>\n",
       "      <td>NaN</td>\n",
       "      <td>NaN</td>\n",
       "      <td>NaN</td>\n",
       "      <td>NaN</td>\n",
       "      <td>NaN</td>\n",
       "      <td>NaN</td>\n",
       "      <td>NaN</td>\n",
       "      <td>NaN</td>\n",
       "      <td>NaN</td>\n",
       "      <td>NaN</td>\n",
       "    </tr>\n",
       "    <tr>\n",
       "      <td>Bedrooms</td>\n",
       "      <td>NaN</td>\n",
       "      <td>0.0</td>\n",
       "      <td>NaN</td>\n",
       "      <td>NaN</td>\n",
       "      <td>NaN</td>\n",
       "      <td>NaN</td>\n",
       "      <td>NaN</td>\n",
       "      <td>NaN</td>\n",
       "      <td>NaN</td>\n",
       "      <td>NaN</td>\n",
       "      <td>NaN</td>\n",
       "      <td>NaN</td>\n",
       "      <td>NaN</td>\n",
       "      <td>NaN</td>\n",
       "      <td>NaN</td>\n",
       "      <td>NaN</td>\n",
       "      <td>NaN</td>\n",
       "      <td>NaN</td>\n",
       "    </tr>\n",
       "    <tr>\n",
       "      <td>Offers</td>\n",
       "      <td>NaN</td>\n",
       "      <td>0.0</td>\n",
       "      <td>NaN</td>\n",
       "      <td>NaN</td>\n",
       "      <td>NaN</td>\n",
       "      <td>NaN</td>\n",
       "      <td>NaN</td>\n",
       "      <td>NaN</td>\n",
       "      <td>NaN</td>\n",
       "      <td>NaN</td>\n",
       "      <td>NaN</td>\n",
       "      <td>NaN</td>\n",
       "      <td>NaN</td>\n",
       "      <td>NaN</td>\n",
       "      <td>NaN</td>\n",
       "      <td>NaN</td>\n",
       "      <td>NaN</td>\n",
       "      <td>NaN</td>\n",
       "    </tr>\n",
       "  </tbody>\n",
       "</table>\n",
       "</div>"
      ],
      "text/plain": [
       "                  N  NMISS         SUM          MEAN    MEDIAN           STD  \\\n",
       "Price         128.0    0.0  16694700.0  130427.34375  125950.0  26868.770371   \n",
       "SqFt          128.0    0.0    256120.0    2000.93750    2000.0    211.572431   \n",
       "Brick           NaN    0.0         NaN           NaN       NaN           NaN   \n",
       "Neighborhood    NaN    0.0         NaN           NaN       NaN           NaN   \n",
       "Bathrooms       NaN    0.0         NaN           NaN       NaN           NaN   \n",
       "Bedrooms        NaN    0.0         NaN           NaN       NaN           NaN   \n",
       "Offers          NaN    0.0         NaN           NaN       NaN           NaN   \n",
       "\n",
       "                       VAR      MIN       P1       P5       P10       P25  \\\n",
       "Price         7.219308e+08  69100.0  81570.0  91310.0  102020.0  111325.0   \n",
       "SqFt          4.476289e+04   1450.0   1530.8   1664.0    1720.0    1880.0   \n",
       "Brick                  NaN      NaN      NaN      NaN       NaN       NaN   \n",
       "Neighborhood           NaN      NaN      NaN      NaN       NaN       NaN   \n",
       "Bathrooms              NaN      NaN      NaN      NaN       NaN       NaN   \n",
       "Bedrooms               NaN      NaN      NaN      NaN       NaN       NaN   \n",
       "Offers                 NaN      NaN      NaN      NaN       NaN       NaN   \n",
       "\n",
       "                   P50       P75       P90       P95       P99       MAX  \n",
       "Price         125950.0  148250.0  166560.0  179465.0  196476.0  211200.0  \n",
       "SqFt            2000.0    2140.0    2250.0    2368.0    2505.7    2590.0  \n",
       "Brick              NaN       NaN       NaN       NaN       NaN       NaN  \n",
       "Neighborhood       NaN       NaN       NaN       NaN       NaN       NaN  \n",
       "Bathrooms          NaN       NaN       NaN       NaN       NaN       NaN  \n",
       "Bedrooms           NaN       NaN       NaN       NaN       NaN       NaN  \n",
       "Offers             NaN       NaN       NaN       NaN       NaN       NaN  "
      ]
     },
     "metadata": {},
     "output_type": "display_data"
    }
   ],
   "source": [
    "# 4. Does data have any special characters?\n",
    "#     No\n",
    "# 5. Does data have any missing values?\n",
    "# 6. Does data any outliers\n",
    "# create groups of varaibles continuous and categorical\n",
    "cat_vars = [\"Brick\",\"Neighborhood\",'Bathrooms','Bedrooms','Offers']\n",
    "con_vars = ['Price', 'SqFt']\n",
    "\n",
    "print(\"Total Categorical Columns : \",len(cat_vars))\n",
    "print(\"Columns are : \",cat_vars)\n",
    "print(\"Total Continous Columns : \",len(con_vars))\n",
    "print(\"Columns are : \",con_vars)\n",
    "def dataAuditCon(x):\n",
    "    return pd.Series([x.count(), x.isnull().sum(), x.sum(), x.mean(),\n",
    "                      x.median(),  x.std(), x.var(), x.min(), x.quantile(0.01),\n",
    "                      x.quantile(0.05),x.quantile(0.10),x.quantile(0.25),\n",
    "                      x.quantile(0.50),x.quantile(0.75), x.quantile(0.90),x.quantile(0.95),\n",
    "                      x.quantile(0.99),x.max()], \n",
    "                  index=['N', 'NMISS', 'SUM', 'MEAN','MEDIAN', 'STD', 'VAR', 'MIN',\n",
    "                         'P1' , 'P5' ,'P10' ,'P25' ,'P50' ,'P75' ,'P90' \n",
    "                         ,'P95' ,'P99' ,'MAX'])\n",
    "def dataAuditCat(x):\n",
    "    return pd.Series({\"NMISS\":x.isnull().sum()})\n",
    "\n",
    "temp1 = home[con_vars].apply(dataAuditCon,axis=0).T\n",
    "temp2 = home[cat_vars].apply(dataAuditCat).T\n",
    "dataAudits = pd.concat([temp1,temp2])\n",
    "\n",
    "# display(home[cat_vars].apply(dataAuditCat).T)\n",
    "display(dataAudits[['N', 'NMISS', 'SUM', 'MEAN','MEDIAN', 'STD', 'VAR', 'MIN',\n",
    "                         'P1' , 'P5' ,'P10' ,'P25' ,'P50' ,'P75' ,'P90' \n",
    "                         ,'P95' ,'P99' ,'MAX']])\n",
    "\n",
    "\n"
   ]
  },
  {
   "cell_type": "code",
   "execution_count": 127,
   "metadata": {},
   "outputs": [
    {
     "name": "stderr",
     "output_type": "stream",
     "text": [
      "/home/vijay/anaconda3/lib/python3.7/site-packages/ipykernel_launcher.py:2: FutureWarning: clip_upper(threshold) is deprecated, use clip(upper=threshold) instead\n",
      "  \n",
      "/home/vijay/anaconda3/lib/python3.7/site-packages/ipykernel_launcher.py:3: FutureWarning: clip_lower(threshold) is deprecated, use clip(lower=threshold) instead\n",
      "  This is separate from the ipykernel package so we can avoid doing imports until\n",
      "/home/vijay/anaconda3/lib/python3.7/site-packages/ipykernel_launcher.py:17: FutureWarning: Sorting because non-concatenation axis is not aligned. A future version\n",
      "of pandas will change to not sort by default.\n",
      "\n",
      "To accept the future behavior, pass 'sort=False'.\n",
      "\n",
      "To retain the current behavior and silence the warning, pass 'sort=True'.\n",
      "\n"
     ]
    }
   ],
   "source": [
    "def removeOutlier(x,quantileValue = .99):    \n",
    "    x.clip_upper(x.quantile(quantileValue));\n",
    "    x.clip_lower(x.quantile(round(1.-quantileValue,2)))\n",
    "    return x\n",
    "\n",
    "home[con_vars] = home[con_vars].apply(lambda x:removeOutlier(x,0.95))\n",
    "\n",
    "# home[\"Price\"] = home[\"Price\"].clip_upper(home[\"Price\"].quantile(.9))\n",
    "# home[\"Price\"] = home[\"Price\"].clip_lower(home[\"Price\"].quantile(.1))\n",
    "\n",
    "\n",
    "# home[\"SqFt\"] = home[\"SqFt\"].clip_upper(home[\"SqFt\"].quantile(.9))\n",
    "# home[\"SqFt\"] = home[\"SqFt\"].clip_lower(home[\"SqFt\"].quantile(.1))\n",
    "\n",
    "temp1 = home[con_vars].apply(dataAuditCon,axis=0).T\n",
    "temp2 = home[cat_vars].apply(dataAuditCat).T\n",
    "dataAudits = pd.concat([temp1,temp2])\n"
   ]
  },
  {
   "cell_type": "code",
   "execution_count": 128,
   "metadata": {},
   "outputs": [],
   "source": [
    "data_cat = home[cat_vars]\n",
    "data_con = home[con_vars]"
   ]
  },
  {
   "cell_type": "code",
   "execution_count": 130,
   "metadata": {},
   "outputs": [
    {
     "name": "stdout",
     "output_type": "stream",
     "text": [
      "<class 'pandas.core.frame.DataFrame'>\n",
      "RangeIndex: 128 entries, 0 to 127\n",
      "Data columns (total 7 columns):\n",
      "Price           128 non-null int64\n",
      "SqFt            128 non-null int64\n",
      "Brick           128 non-null object\n",
      "Neighborhood    128 non-null object\n",
      "Bathrooms       128 non-null object\n",
      "Bedrooms        128 non-null object\n",
      "Offers          128 non-null object\n",
      "dtypes: int64(2), object(5)\n",
      "memory usage: 7.1+ KB\n"
     ]
    }
   ],
   "source": [
    "data_final = pd.concat([data_con, data_cat], axis=1)\n",
    "data_final[cat_vars]= data_final[cat_vars].astype(object)\n",
    "data_final.info()"
   ]
  },
  {
   "cell_type": "code",
   "execution_count": 131,
   "metadata": {},
   "outputs": [],
   "source": [
    "data_final = pd.get_dummies(data_final,['Brick', 'Neighborhood', 'Bathrooms', 'Bedrooms', 'Offers'], drop_first=True)"
   ]
  },
  {
   "cell_type": "code",
   "execution_count": 132,
   "metadata": {},
   "outputs": [
    {
     "data": {
      "text/html": [
       "<div>\n",
       "<style scoped>\n",
       "    .dataframe tbody tr th:only-of-type {\n",
       "        vertical-align: middle;\n",
       "    }\n",
       "\n",
       "    .dataframe tbody tr th {\n",
       "        vertical-align: top;\n",
       "    }\n",
       "\n",
       "    .dataframe thead th {\n",
       "        text-align: right;\n",
       "    }\n",
       "</style>\n",
       "<table border=\"1\" class=\"dataframe\">\n",
       "  <thead>\n",
       "    <tr style=\"text-align: right;\">\n",
       "      <th></th>\n",
       "      <th>Price</th>\n",
       "      <th>SqFt</th>\n",
       "      <th>Brick_Yes</th>\n",
       "      <th>Neighborhood_North</th>\n",
       "      <th>Neighborhood_West</th>\n",
       "      <th>Bathrooms_3</th>\n",
       "      <th>Bathrooms_4</th>\n",
       "      <th>Bedrooms_3</th>\n",
       "      <th>Bedrooms_4</th>\n",
       "      <th>Bedrooms_5</th>\n",
       "      <th>Offers_2</th>\n",
       "      <th>Offers_3</th>\n",
       "      <th>Offers_4</th>\n",
       "      <th>Offers_5</th>\n",
       "      <th>Offers_6</th>\n",
       "    </tr>\n",
       "  </thead>\n",
       "  <tbody>\n",
       "    <tr>\n",
       "      <td>0</td>\n",
       "      <td>114300</td>\n",
       "      <td>1790</td>\n",
       "      <td>0</td>\n",
       "      <td>0</td>\n",
       "      <td>0</td>\n",
       "      <td>0</td>\n",
       "      <td>0</td>\n",
       "      <td>0</td>\n",
       "      <td>0</td>\n",
       "      <td>0</td>\n",
       "      <td>1</td>\n",
       "      <td>0</td>\n",
       "      <td>0</td>\n",
       "      <td>0</td>\n",
       "      <td>0</td>\n",
       "    </tr>\n",
       "    <tr>\n",
       "      <td>1</td>\n",
       "      <td>114200</td>\n",
       "      <td>2030</td>\n",
       "      <td>0</td>\n",
       "      <td>0</td>\n",
       "      <td>0</td>\n",
       "      <td>0</td>\n",
       "      <td>0</td>\n",
       "      <td>0</td>\n",
       "      <td>1</td>\n",
       "      <td>0</td>\n",
       "      <td>0</td>\n",
       "      <td>1</td>\n",
       "      <td>0</td>\n",
       "      <td>0</td>\n",
       "      <td>0</td>\n",
       "    </tr>\n",
       "    <tr>\n",
       "      <td>2</td>\n",
       "      <td>114800</td>\n",
       "      <td>1740</td>\n",
       "      <td>0</td>\n",
       "      <td>0</td>\n",
       "      <td>0</td>\n",
       "      <td>0</td>\n",
       "      <td>0</td>\n",
       "      <td>1</td>\n",
       "      <td>0</td>\n",
       "      <td>0</td>\n",
       "      <td>0</td>\n",
       "      <td>0</td>\n",
       "      <td>0</td>\n",
       "      <td>0</td>\n",
       "      <td>0</td>\n",
       "    </tr>\n",
       "    <tr>\n",
       "      <td>3</td>\n",
       "      <td>94700</td>\n",
       "      <td>1980</td>\n",
       "      <td>0</td>\n",
       "      <td>0</td>\n",
       "      <td>0</td>\n",
       "      <td>0</td>\n",
       "      <td>0</td>\n",
       "      <td>1</td>\n",
       "      <td>0</td>\n",
       "      <td>0</td>\n",
       "      <td>0</td>\n",
       "      <td>1</td>\n",
       "      <td>0</td>\n",
       "      <td>0</td>\n",
       "      <td>0</td>\n",
       "    </tr>\n",
       "    <tr>\n",
       "      <td>4</td>\n",
       "      <td>119800</td>\n",
       "      <td>2130</td>\n",
       "      <td>0</td>\n",
       "      <td>0</td>\n",
       "      <td>0</td>\n",
       "      <td>1</td>\n",
       "      <td>0</td>\n",
       "      <td>1</td>\n",
       "      <td>0</td>\n",
       "      <td>0</td>\n",
       "      <td>0</td>\n",
       "      <td>1</td>\n",
       "      <td>0</td>\n",
       "      <td>0</td>\n",
       "      <td>0</td>\n",
       "    </tr>\n",
       "    <tr>\n",
       "      <td>...</td>\n",
       "      <td>...</td>\n",
       "      <td>...</td>\n",
       "      <td>...</td>\n",
       "      <td>...</td>\n",
       "      <td>...</td>\n",
       "      <td>...</td>\n",
       "      <td>...</td>\n",
       "      <td>...</td>\n",
       "      <td>...</td>\n",
       "      <td>...</td>\n",
       "      <td>...</td>\n",
       "      <td>...</td>\n",
       "      <td>...</td>\n",
       "      <td>...</td>\n",
       "      <td>...</td>\n",
       "    </tr>\n",
       "    <tr>\n",
       "      <td>123</td>\n",
       "      <td>119700</td>\n",
       "      <td>1900</td>\n",
       "      <td>1</td>\n",
       "      <td>0</td>\n",
       "      <td>0</td>\n",
       "      <td>1</td>\n",
       "      <td>0</td>\n",
       "      <td>1</td>\n",
       "      <td>0</td>\n",
       "      <td>0</td>\n",
       "      <td>0</td>\n",
       "      <td>1</td>\n",
       "      <td>0</td>\n",
       "      <td>0</td>\n",
       "      <td>0</td>\n",
       "    </tr>\n",
       "    <tr>\n",
       "      <td>124</td>\n",
       "      <td>147900</td>\n",
       "      <td>2160</td>\n",
       "      <td>1</td>\n",
       "      <td>0</td>\n",
       "      <td>0</td>\n",
       "      <td>1</td>\n",
       "      <td>0</td>\n",
       "      <td>0</td>\n",
       "      <td>1</td>\n",
       "      <td>0</td>\n",
       "      <td>0</td>\n",
       "      <td>1</td>\n",
       "      <td>0</td>\n",
       "      <td>0</td>\n",
       "      <td>0</td>\n",
       "    </tr>\n",
       "    <tr>\n",
       "      <td>125</td>\n",
       "      <td>113500</td>\n",
       "      <td>2070</td>\n",
       "      <td>0</td>\n",
       "      <td>1</td>\n",
       "      <td>0</td>\n",
       "      <td>0</td>\n",
       "      <td>0</td>\n",
       "      <td>0</td>\n",
       "      <td>0</td>\n",
       "      <td>0</td>\n",
       "      <td>1</td>\n",
       "      <td>0</td>\n",
       "      <td>0</td>\n",
       "      <td>0</td>\n",
       "      <td>0</td>\n",
       "    </tr>\n",
       "    <tr>\n",
       "      <td>126</td>\n",
       "      <td>149900</td>\n",
       "      <td>2020</td>\n",
       "      <td>0</td>\n",
       "      <td>0</td>\n",
       "      <td>1</td>\n",
       "      <td>1</td>\n",
       "      <td>0</td>\n",
       "      <td>1</td>\n",
       "      <td>0</td>\n",
       "      <td>0</td>\n",
       "      <td>0</td>\n",
       "      <td>0</td>\n",
       "      <td>0</td>\n",
       "      <td>0</td>\n",
       "      <td>0</td>\n",
       "    </tr>\n",
       "    <tr>\n",
       "      <td>127</td>\n",
       "      <td>124600</td>\n",
       "      <td>2250</td>\n",
       "      <td>0</td>\n",
       "      <td>1</td>\n",
       "      <td>0</td>\n",
       "      <td>1</td>\n",
       "      <td>0</td>\n",
       "      <td>1</td>\n",
       "      <td>0</td>\n",
       "      <td>0</td>\n",
       "      <td>0</td>\n",
       "      <td>0</td>\n",
       "      <td>1</td>\n",
       "      <td>0</td>\n",
       "      <td>0</td>\n",
       "    </tr>\n",
       "  </tbody>\n",
       "</table>\n",
       "<p>128 rows × 15 columns</p>\n",
       "</div>"
      ],
      "text/plain": [
       "      Price  SqFt  Brick_Yes  Neighborhood_North  Neighborhood_West  \\\n",
       "0    114300  1790          0                   0                  0   \n",
       "1    114200  2030          0                   0                  0   \n",
       "2    114800  1740          0                   0                  0   \n",
       "3     94700  1980          0                   0                  0   \n",
       "4    119800  2130          0                   0                  0   \n",
       "..      ...   ...        ...                 ...                ...   \n",
       "123  119700  1900          1                   0                  0   \n",
       "124  147900  2160          1                   0                  0   \n",
       "125  113500  2070          0                   1                  0   \n",
       "126  149900  2020          0                   0                  1   \n",
       "127  124600  2250          0                   1                  0   \n",
       "\n",
       "     Bathrooms_3  Bathrooms_4  Bedrooms_3  Bedrooms_4  Bedrooms_5  Offers_2  \\\n",
       "0              0            0           0           0           0         1   \n",
       "1              0            0           0           1           0         0   \n",
       "2              0            0           1           0           0         0   \n",
       "3              0            0           1           0           0         0   \n",
       "4              1            0           1           0           0         0   \n",
       "..           ...          ...         ...         ...         ...       ...   \n",
       "123            1            0           1           0           0         0   \n",
       "124            1            0           0           1           0         0   \n",
       "125            0            0           0           0           0         1   \n",
       "126            1            0           1           0           0         0   \n",
       "127            1            0           1           0           0         0   \n",
       "\n",
       "     Offers_3  Offers_4  Offers_5  Offers_6  \n",
       "0           0         0         0         0  \n",
       "1           1         0         0         0  \n",
       "2           0         0         0         0  \n",
       "3           1         0         0         0  \n",
       "4           1         0         0         0  \n",
       "..        ...       ...       ...       ...  \n",
       "123         1         0         0         0  \n",
       "124         1         0         0         0  \n",
       "125         0         0         0         0  \n",
       "126         0         0         0         0  \n",
       "127         0         1         0         0  \n",
       "\n",
       "[128 rows x 15 columns]"
      ]
     },
     "metadata": {},
     "output_type": "display_data"
    }
   ],
   "source": [
    "display(data_final)"
   ]
  },
  {
   "cell_type": "code",
   "execution_count": 133,
   "metadata": {},
   "outputs": [
    {
     "data": {
      "text/plain": [
       "Index(['Price', 'SqFt', 'Brick_Yes', 'Neighborhood_North', 'Neighborhood_West',\n",
       "       'Bathrooms_3', 'Bathrooms_4', 'Bedrooms_3', 'Bedrooms_4', 'Bedrooms_5',\n",
       "       'Offers_2', 'Offers_3', 'Offers_4', 'Offers_5', 'Offers_6'],\n",
       "      dtype='object')"
      ]
     },
     "execution_count": 133,
     "metadata": {},
     "output_type": "execute_result"
    }
   ],
   "source": [
    "data_final.columns"
   ]
  },
  {
   "cell_type": "code",
   "execution_count": 134,
   "metadata": {},
   "outputs": [],
   "source": [
    "#Calculating CV for all the variables \n",
    "cv_vars = data_final.apply(lambda x: np.mean(x)/np.std(x) )"
   ]
  },
  {
   "cell_type": "code",
   "execution_count": 135,
   "metadata": {},
   "outputs": [
    {
     "name": "stdout",
     "output_type": "stream",
     "text": [
      "SqFt                  9.494620\n",
      "Price                 4.873309\n",
      "Bedrooms_3            1.048027\n",
      "Bathrooms_3           0.868000\n",
      "Offers_3              0.748983\n",
      "Neighborhood_North    0.723747\n",
      "Brick_Yes             0.698836\n",
      "Neighborhood_West     0.661968\n",
      "Offers_2              0.625543\n",
      "Bedrooms_4            0.541229\n",
      "Offers_4              0.417507\n",
      "Offers_5              0.154919\n",
      "Bedrooms_5            0.125988\n",
      "Offers_6              0.088736\n",
      "Bathrooms_4           0.088736\n",
      "dtype: float64\n"
     ]
    }
   ],
   "source": [
    "print(cv_vars.sort_values(ascending=False))"
   ]
  },
  {
   "cell_type": "code",
   "execution_count": 26,
   "metadata": {},
   "outputs": [],
   "source": [
    "# droping column whose CV is lese then .05 (<.05)\n",
    "del data_final[\"Bathrooms_4\"]\n",
    "del data_final[\"Offers_6\"]"
   ]
  },
  {
   "cell_type": "code",
   "execution_count": 27,
   "metadata": {},
   "outputs": [],
   "source": [
    "data_final['ln_price'] = np.log(data_final.Price)"
   ]
  },
  {
   "cell_type": "code",
   "execution_count": 28,
   "metadata": {},
   "outputs": [
    {
     "data": {
      "text/plain": [
       "<matplotlib.axes._subplots.AxesSubplot at 0x1a24e1ae90>"
      ]
     },
     "execution_count": 28,
     "metadata": {},
     "output_type": "execute_result"
    },
    {
     "data": {
      "image/png": "[encoded data removed]",
      "text/plain": [
       "<Figure size 432x288 with 1 Axes>"
      ]
     },
     "metadata": {
      "needs_background": "light"
     },
     "output_type": "display_data"
    }
   ],
   "source": [
    "#Assumptions check\n",
    "#Normality\n",
    "np.log(data_final.Price).hist(bins=20)"
   ]
  },
  {
   "cell_type": "code",
   "execution_count": 29,
   "metadata": {},
   "outputs": [
    {
     "data": {
      "text/plain": [
       "<matplotlib.axes._subplots.AxesSubplot at 0x1a25f50410>"
      ]
     },
     "execution_count": 29,
     "metadata": {},
     "output_type": "execute_result"
    },
    {
     "data": {
      "image/png": "[encoded data removed]",
      "text/plain": [
       "<Figure size 432x288 with 1 Axes>"
      ]
     },
     "metadata": {
      "needs_background": "light"
     },
     "output_type": "display_data"
    }
   ],
   "source": [
    "sns.distplot(np.log(data_final.Price))"
   ]
  },
  {
   "cell_type": "code",
   "execution_count": 30,
   "metadata": {},
   "outputs": [
    {
     "data": {
      "text/plain": [
       "Index(['Price', 'SqFt', 'Brick_1', 'Neighborhood_North', 'Neighborhood_West',\n",
       "       'Bathrooms_3', 'Bedrooms_3', 'Bedrooms_4', 'Bedrooms_5', 'Offers_2',\n",
       "       'Offers_3', 'Offers_4', 'Offers_5', 'ln_price'],\n",
       "      dtype='object')"
      ]
     },
     "execution_count": 30,
     "metadata": {},
     "output_type": "execute_result"
    }
   ],
   "source": [
    "data_final.columns"
   ]
  },
  {
   "cell_type": "code",
   "execution_count": 31,
   "metadata": {},
   "outputs": [],
   "source": [
    "#Feature Reduction"
   ]
  },
  {
   "cell_type": "code",
   "execution_count": 32,
   "metadata": {},
   "outputs": [],
   "source": [
    "#using Linearity assumption (Y & X should have linear relationship)\n",
    "corr_mat = data_final.corr()\n",
    "corr_mat.to_csv('corr_mat.csv')"
   ]
  },
  {
   "cell_type": "code",
   "execution_count": 33,
   "metadata": {},
   "outputs": [],
   "source": [
    "#RFE - Recursive Feature Elimination"
   ]
  },
  {
   "cell_type": "code",
   "execution_count": 35,
   "metadata": {},
   "outputs": [],
   "source": [
    "features = data_final[data_final.columns.difference( ['ln_price', 'Price'] )]\n",
    "target = data_final['Price']"
   ]
  },
  {
   "cell_type": "code",
   "execution_count": 36,
   "metadata": {},
   "outputs": [
    {
     "data": {
      "text/html": [
       "<div>\n",
       "<style scoped>\n",
       "    .dataframe tbody tr th:only-of-type {\n",
       "        vertical-align: middle;\n",
       "    }\n",
       "\n",
       "    .dataframe tbody tr th {\n",
       "        vertical-align: top;\n",
       "    }\n",
       "\n",
       "    .dataframe thead th {\n",
       "        text-align: right;\n",
       "    }\n",
       "</style>\n",
       "<table border=\"1\" class=\"dataframe\">\n",
       "  <thead>\n",
       "    <tr style=\"text-align: right;\">\n",
       "      <th></th>\n",
       "      <th>Bathrooms_3</th>\n",
       "      <th>Bedrooms_3</th>\n",
       "      <th>Bedrooms_4</th>\n",
       "      <th>Bedrooms_5</th>\n",
       "      <th>Brick_1</th>\n",
       "      <th>Neighborhood_North</th>\n",
       "      <th>Neighborhood_West</th>\n",
       "      <th>Offers_2</th>\n",
       "      <th>Offers_3</th>\n",
       "      <th>Offers_4</th>\n",
       "      <th>Offers_5</th>\n",
       "      <th>SqFt</th>\n",
       "    </tr>\n",
       "  </thead>\n",
       "  <tbody>\n",
       "    <tr>\n",
       "      <td>0</td>\n",
       "      <td>0</td>\n",
       "      <td>0</td>\n",
       "      <td>0</td>\n",
       "      <td>0</td>\n",
       "      <td>0</td>\n",
       "      <td>0</td>\n",
       "      <td>0</td>\n",
       "      <td>1</td>\n",
       "      <td>0</td>\n",
       "      <td>0</td>\n",
       "      <td>0</td>\n",
       "      <td>1790</td>\n",
       "    </tr>\n",
       "    <tr>\n",
       "      <td>1</td>\n",
       "      <td>0</td>\n",
       "      <td>0</td>\n",
       "      <td>1</td>\n",
       "      <td>0</td>\n",
       "      <td>0</td>\n",
       "      <td>0</td>\n",
       "      <td>0</td>\n",
       "      <td>0</td>\n",
       "      <td>1</td>\n",
       "      <td>0</td>\n",
       "      <td>0</td>\n",
       "      <td>2030</td>\n",
       "    </tr>\n",
       "    <tr>\n",
       "      <td>2</td>\n",
       "      <td>0</td>\n",
       "      <td>1</td>\n",
       "      <td>0</td>\n",
       "      <td>0</td>\n",
       "      <td>0</td>\n",
       "      <td>0</td>\n",
       "      <td>0</td>\n",
       "      <td>0</td>\n",
       "      <td>0</td>\n",
       "      <td>0</td>\n",
       "      <td>0</td>\n",
       "      <td>1740</td>\n",
       "    </tr>\n",
       "    <tr>\n",
       "      <td>3</td>\n",
       "      <td>0</td>\n",
       "      <td>1</td>\n",
       "      <td>0</td>\n",
       "      <td>0</td>\n",
       "      <td>0</td>\n",
       "      <td>0</td>\n",
       "      <td>0</td>\n",
       "      <td>0</td>\n",
       "      <td>1</td>\n",
       "      <td>0</td>\n",
       "      <td>0</td>\n",
       "      <td>1980</td>\n",
       "    </tr>\n",
       "    <tr>\n",
       "      <td>4</td>\n",
       "      <td>1</td>\n",
       "      <td>1</td>\n",
       "      <td>0</td>\n",
       "      <td>0</td>\n",
       "      <td>0</td>\n",
       "      <td>0</td>\n",
       "      <td>0</td>\n",
       "      <td>0</td>\n",
       "      <td>1</td>\n",
       "      <td>0</td>\n",
       "      <td>0</td>\n",
       "      <td>2130</td>\n",
       "    </tr>\n",
       "    <tr>\n",
       "      <td>...</td>\n",
       "      <td>...</td>\n",
       "      <td>...</td>\n",
       "      <td>...</td>\n",
       "      <td>...</td>\n",
       "      <td>...</td>\n",
       "      <td>...</td>\n",
       "      <td>...</td>\n",
       "      <td>...</td>\n",
       "      <td>...</td>\n",
       "      <td>...</td>\n",
       "      <td>...</td>\n",
       "      <td>...</td>\n",
       "    </tr>\n",
       "    <tr>\n",
       "      <td>123</td>\n",
       "      <td>1</td>\n",
       "      <td>1</td>\n",
       "      <td>0</td>\n",
       "      <td>0</td>\n",
       "      <td>1</td>\n",
       "      <td>0</td>\n",
       "      <td>0</td>\n",
       "      <td>0</td>\n",
       "      <td>1</td>\n",
       "      <td>0</td>\n",
       "      <td>0</td>\n",
       "      <td>1900</td>\n",
       "    </tr>\n",
       "    <tr>\n",
       "      <td>124</td>\n",
       "      <td>1</td>\n",
       "      <td>0</td>\n",
       "      <td>1</td>\n",
       "      <td>0</td>\n",
       "      <td>1</td>\n",
       "      <td>0</td>\n",
       "      <td>0</td>\n",
       "      <td>0</td>\n",
       "      <td>1</td>\n",
       "      <td>0</td>\n",
       "      <td>0</td>\n",
       "      <td>2160</td>\n",
       "    </tr>\n",
       "    <tr>\n",
       "      <td>125</td>\n",
       "      <td>0</td>\n",
       "      <td>0</td>\n",
       "      <td>0</td>\n",
       "      <td>0</td>\n",
       "      <td>0</td>\n",
       "      <td>1</td>\n",
       "      <td>0</td>\n",
       "      <td>1</td>\n",
       "      <td>0</td>\n",
       "      <td>0</td>\n",
       "      <td>0</td>\n",
       "      <td>2070</td>\n",
       "    </tr>\n",
       "    <tr>\n",
       "      <td>126</td>\n",
       "      <td>1</td>\n",
       "      <td>1</td>\n",
       "      <td>0</td>\n",
       "      <td>0</td>\n",
       "      <td>0</td>\n",
       "      <td>0</td>\n",
       "      <td>1</td>\n",
       "      <td>0</td>\n",
       "      <td>0</td>\n",
       "      <td>0</td>\n",
       "      <td>0</td>\n",
       "      <td>2020</td>\n",
       "    </tr>\n",
       "    <tr>\n",
       "      <td>127</td>\n",
       "      <td>1</td>\n",
       "      <td>1</td>\n",
       "      <td>0</td>\n",
       "      <td>0</td>\n",
       "      <td>0</td>\n",
       "      <td>1</td>\n",
       "      <td>0</td>\n",
       "      <td>0</td>\n",
       "      <td>0</td>\n",
       "      <td>1</td>\n",
       "      <td>0</td>\n",
       "      <td>2250</td>\n",
       "    </tr>\n",
       "  </tbody>\n",
       "</table>\n",
       "<p>128 rows × 12 columns</p>\n",
       "</div>"
      ],
      "text/plain": [
       "     Bathrooms_3  Bedrooms_3  Bedrooms_4  Bedrooms_5  Brick_1  \\\n",
       "0              0           0           0           0        0   \n",
       "1              0           0           1           0        0   \n",
       "2              0           1           0           0        0   \n",
       "3              0           1           0           0        0   \n",
       "4              1           1           0           0        0   \n",
       "..           ...         ...         ...         ...      ...   \n",
       "123            1           1           0           0        1   \n",
       "124            1           0           1           0        1   \n",
       "125            0           0           0           0        0   \n",
       "126            1           1           0           0        0   \n",
       "127            1           1           0           0        0   \n",
       "\n",
       "     Neighborhood_North  Neighborhood_West  Offers_2  Offers_3  Offers_4  \\\n",
       "0                     0                  0         1         0         0   \n",
       "1                     0                  0         0         1         0   \n",
       "2                     0                  0         0         0         0   \n",
       "3                     0                  0         0         1         0   \n",
       "4                     0                  0         0         1         0   \n",
       "..                  ...                ...       ...       ...       ...   \n",
       "123                   0                  0         0         1         0   \n",
       "124                   0                  0         0         1         0   \n",
       "125                   1                  0         1         0         0   \n",
       "126                   0                  1         0         0         0   \n",
       "127                   1                  0         0         0         1   \n",
       "\n",
       "     Offers_5  SqFt  \n",
       "0           0  1790  \n",
       "1           0  2030  \n",
       "2           0  1740  \n",
       "3           0  1980  \n",
       "4           0  2130  \n",
       "..        ...   ...  \n",
       "123         0  1900  \n",
       "124         0  2160  \n",
       "125         0  2070  \n",
       "126         0  2020  \n",
       "127         0  2250  \n",
       "\n",
       "[128 rows x 12 columns]"
      ]
     },
     "metadata": {},
     "output_type": "display_data"
    }
   ],
   "source": [
    "display(features)"
   ]
  },
  {
   "cell_type": "code",
   "execution_count": 37,
   "metadata": {},
   "outputs": [],
   "source": [
    "from sklearn.feature_selection import RFE\n",
    "from sklearn.linear_model import LinearRegression\n",
    "from sklearn.ensemble import RandomForestRegressor\n",
    "import itertools"
   ]
  },
  {
   "cell_type": "code",
   "execution_count": 38,
   "metadata": {},
   "outputs": [
    {
     "name": "stderr",
     "output_type": "stream",
     "text": [
      "/Users/avishkar/opt/anaconda3/lib/python3.7/site-packages/sklearn/ensemble/forest.py:245: FutureWarning: The default value of n_estimators will change from 10 in version 0.20 to 100 in 0.22.\n",
      "  \"10 in version 0.20 to 100 in 0.22.\", FutureWarning)\n",
      "/Users/avishkar/opt/anaconda3/lib/python3.7/site-packages/sklearn/ensemble/forest.py:245: FutureWarning: The default value of n_estimators will change from 10 in version 0.20 to 100 in 0.22.\n",
      "  \"10 in version 0.20 to 100 in 0.22.\", FutureWarning)\n",
      "/Users/avishkar/opt/anaconda3/lib/python3.7/site-packages/sklearn/ensemble/forest.py:245: FutureWarning: The default value of n_estimators will change from 10 in version 0.20 to 100 in 0.22.\n",
      "  \"10 in version 0.20 to 100 in 0.22.\", FutureWarning)\n"
     ]
    }
   ],
   "source": [
    "#lm = LinearRegression()\n",
    "lm = RandomForestRegressor()\n",
    "\n",
    "# create the RFE model and select 10 attributes\n",
    "rfe = RFE(lm, n_features_to_select=10)\n",
    "rfe = rfe.fit(features, target)"
   ]
  },
  {
   "cell_type": "code",
   "execution_count": 39,
   "metadata": {},
   "outputs": [
    {
     "data": {
      "text/plain": [
       "Index(['Bathrooms_3', 'Bedrooms_3', 'Bedrooms_4', 'Brick_1',\n",
       "       'Neighborhood_North', 'Neighborhood_West', 'Offers_2', 'Offers_3',\n",
       "       'Offers_4', 'SqFt'],\n",
       "      dtype='object')"
      ]
     },
     "execution_count": 39,
     "metadata": {},
     "output_type": "execute_result"
    }
   ],
   "source": [
    "features.columns[rfe.support_]"
   ]
  },
  {
   "cell_type": "code",
   "execution_count": 41,
   "metadata": {},
   "outputs": [],
   "source": [
    "#Moudles related to feature selection\n",
    "from sklearn.feature_selection import SelectKBest, f_regression, f_oneway"
   ]
  },
  {
   "cell_type": "code",
   "execution_count": 42,
   "metadata": {},
   "outputs": [],
   "source": [
    "#SelectKbest\n",
    "SKB = SelectKBest(f_oneway, k=10).fit(features, target )"
   ]
  },
  {
   "cell_type": "code",
   "execution_count": 43,
   "metadata": {},
   "outputs": [
    {
     "data": {
      "text/plain": [
       "array([ True, False,  True,  True,  True,  True,  True,  True,  True,\n",
       "        True,  True, False])"
      ]
     },
     "execution_count": 43,
     "metadata": {},
     "output_type": "execute_result"
    }
   ],
   "source": [
    "SKB.get_support()"
   ]
  },
  {
   "cell_type": "code",
   "execution_count": 45,
   "metadata": {},
   "outputs": [
    {
     "data": {
      "text/plain": [
       "Index(['Bathrooms_3', 'Bedrooms_4', 'Bedrooms_5', 'Brick_1',\n",
       "       'Neighborhood_North', 'Neighborhood_West', 'Offers_2', 'Offers_3',\n",
       "       'Offers_4', 'Offers_5'],\n",
       "      dtype='object')"
      ]
     },
     "execution_count": 45,
     "metadata": {},
     "output_type": "execute_result"
    }
   ],
   "source": [
    "features.columns[SKB.get_support()]"
   ]
  },
  {
   "cell_type": "code",
   "execution_count": 46,
   "metadata": {},
   "outputs": [],
   "source": [
    "#Using F-Regression\n",
    "#F-Regression # Feature Selection based on importance\n",
    "from sklearn.feature_selection import f_regression\n",
    "F_values, p_values  = f_regression(  features, target )"
   ]
  },
  {
   "cell_type": "code",
   "execution_count": 47,
   "metadata": {},
   "outputs": [
    {
     "data": {
      "text/plain": [
       "<itertools.zip_longest at 0x1a26348cb0>"
      ]
     },
     "execution_count": 47,
     "metadata": {},
     "output_type": "execute_result"
    }
   ],
   "source": [
    "itertools.zip_longest(features.columns, F_values, p_values)"
   ]
  },
  {
   "cell_type": "code",
   "execution_count": 48,
   "metadata": {},
   "outputs": [],
   "source": [
    "import itertools\n",
    "f_reg_results = [(i, v, z) for i, v, z in itertools.zip_longest(features.columns, F_values,  ['%.3f' % p for p in p_values])]"
   ]
  },
  {
   "cell_type": "code",
   "execution_count": 49,
   "metadata": {},
   "outputs": [],
   "source": [
    "f_reg_results=pd.DataFrame(f_reg_results, columns=['Variable','F_Value', 'P_Value'])"
   ]
  },
  {
   "cell_type": "code",
   "execution_count": 50,
   "metadata": {},
   "outputs": [],
   "source": [
    "f_reg_results.sort_values(by=['F_Value'], ascending=False, inplace=True)"
   ]
  },
  {
   "cell_type": "code",
   "execution_count": 51,
   "metadata": {},
   "outputs": [],
   "source": [
    "f_reg_results.to_csv('f_reg_results.csv')"
   ]
  },
  {
   "cell_type": "code",
   "execution_count": 52,
   "metadata": {},
   "outputs": [
    {
     "data": {
      "text/plain": [
       "Index(['Price', 'SqFt', 'Brick_1', 'Neighborhood_North', 'Neighborhood_West',\n",
       "       'Bathrooms_3', 'Bedrooms_3', 'Bedrooms_4', 'Bedrooms_5', 'Offers_2',\n",
       "       'Offers_3', 'Offers_4', 'Offers_5', 'ln_price'],\n",
       "      dtype='object')"
      ]
     },
     "execution_count": 52,
     "metadata": {},
     "output_type": "execute_result"
    }
   ],
   "source": [
    "data_final.columns"
   ]
  },
  {
   "cell_type": "code",
   "execution_count": 53,
   "metadata": {},
   "outputs": [],
   "source": [
    "from statsmodels.stats.outliers_influence import variance_inflation_factor\n",
    "Final_list = [\n",
    "    'Brick_1',\n",
    "    'Neighborhood_North',\n",
    "    'Neighborhood_West',\n",
    "    'Bathrooms_3',\n",
    "    'Bedrooms_3',\n",
    "    'Bedrooms_4',\n",
    "    'Bedrooms_5',\n",
    "    'Offers_2',\n",
    "    'Offers_3',\n",
    "    'Offers_4',\n",
    "    'Offers_5',\n",
    "]"
   ]
  },
  {
   "cell_type": "code",
   "execution_count": 54,
   "metadata": {},
   "outputs": [],
   "source": [
    "X=features[Final_list]"
   ]
  },
  {
   "cell_type": "code",
   "execution_count": 55,
   "metadata": {},
   "outputs": [
    {
     "data": {
      "text/plain": [
       "2.3881147986551308"
      ]
     },
     "execution_count": 55,
     "metadata": {},
     "output_type": "execute_result"
    }
   ],
   "source": [
    "variance_inflation_factor(X.values, 2)"
   ]
  },
  {
   "cell_type": "code",
   "execution_count": 56,
   "metadata": {},
   "outputs": [
    {
     "data": {
      "text/html": [
       "<div>\n",
       "<style scoped>\n",
       "    .dataframe tbody tr th:only-of-type {\n",
       "        vertical-align: middle;\n",
       "    }\n",
       "\n",
       "    .dataframe tbody tr th {\n",
       "        vertical-align: top;\n",
       "    }\n",
       "\n",
       "    .dataframe thead th {\n",
       "        text-align: right;\n",
       "    }\n",
       "</style>\n",
       "<table border=\"1\" class=\"dataframe\">\n",
       "  <thead>\n",
       "    <tr style=\"text-align: right;\">\n",
       "      <th></th>\n",
       "      <th>VIF_Factor</th>\n",
       "      <th>features</th>\n",
       "    </tr>\n",
       "  </thead>\n",
       "  <tbody>\n",
       "    <tr>\n",
       "      <td>4</td>\n",
       "      <td>3.222215</td>\n",
       "      <td>Bedrooms_3</td>\n",
       "    </tr>\n",
       "    <tr>\n",
       "      <td>8</td>\n",
       "      <td>3.097269</td>\n",
       "      <td>Offers_3</td>\n",
       "    </tr>\n",
       "    <tr>\n",
       "      <td>5</td>\n",
       "      <td>2.988399</td>\n",
       "      <td>Bedrooms_4</td>\n",
       "    </tr>\n",
       "    <tr>\n",
       "      <td>2</td>\n",
       "      <td>2.388115</td>\n",
       "      <td>Neighborhood_West</td>\n",
       "    </tr>\n",
       "    <tr>\n",
       "      <td>3</td>\n",
       "      <td>2.371423</td>\n",
       "      <td>Bathrooms_3</td>\n",
       "    </tr>\n",
       "    <tr>\n",
       "      <td>9</td>\n",
       "      <td>2.121274</td>\n",
       "      <td>Offers_4</td>\n",
       "    </tr>\n",
       "    <tr>\n",
       "      <td>1</td>\n",
       "      <td>1.985718</td>\n",
       "      <td>Neighborhood_North</td>\n",
       "    </tr>\n",
       "    <tr>\n",
       "      <td>7</td>\n",
       "      <td>1.913774</td>\n",
       "      <td>Offers_2</td>\n",
       "    </tr>\n",
       "    <tr>\n",
       "      <td>0</td>\n",
       "      <td>1.529782</td>\n",
       "      <td>Brick_1</td>\n",
       "    </tr>\n",
       "    <tr>\n",
       "      <td>10</td>\n",
       "      <td>1.259629</td>\n",
       "      <td>Offers_5</td>\n",
       "    </tr>\n",
       "    <tr>\n",
       "      <td>6</td>\n",
       "      <td>1.141956</td>\n",
       "      <td>Bedrooms_5</td>\n",
       "    </tr>\n",
       "  </tbody>\n",
       "</table>\n",
       "</div>"
      ],
      "text/plain": [
       "    VIF_Factor            features\n",
       "4     3.222215          Bedrooms_3\n",
       "8     3.097269            Offers_3\n",
       "5     2.988399          Bedrooms_4\n",
       "2     2.388115   Neighborhood_West\n",
       "3     2.371423         Bathrooms_3\n",
       "9     2.121274            Offers_4\n",
       "1     1.985718  Neighborhood_North\n",
       "7     1.913774            Offers_2\n",
       "0     1.529782             Brick_1\n",
       "10    1.259629            Offers_5\n",
       "6     1.141956          Bedrooms_5"
      ]
     },
     "execution_count": 56,
     "metadata": {},
     "output_type": "execute_result"
    }
   ],
   "source": [
    "# For each X, calculate VIF and save in dataframe\n",
    "vif = pd.DataFrame()\n",
    "vif[\"VIF_Factor\"] = [variance_inflation_factor(X.values, i) for i in range(X.shape[1])]\n",
    "vif[\"features\"] = X.columns\n",
    "\n",
    "vif.sort_values(by='VIF_Factor', ascending=False)"
   ]
  },
  {
   "cell_type": "code",
   "execution_count": 57,
   "metadata": {},
   "outputs": [],
   "source": [
    "#Split the data into train & test\n",
    "train, test = train_test_split(data_final, test_size=0.3, random_state=123)"
   ]
  },
  {
   "cell_type": "code",
   "execution_count": 58,
   "metadata": {},
   "outputs": [
    {
     "data": {
      "text/plain": [
       "(128, 14)"
      ]
     },
     "execution_count": 58,
     "metadata": {},
     "output_type": "execute_result"
    }
   ],
   "source": [
    "data_final.shape"
   ]
  },
  {
   "cell_type": "code",
   "execution_count": 59,
   "metadata": {},
   "outputs": [
    {
     "data": {
      "text/plain": [
       "(89, 14)"
      ]
     },
     "execution_count": 59,
     "metadata": {},
     "output_type": "execute_result"
    }
   ],
   "source": [
    "train.shape"
   ]
  },
  {
   "cell_type": "code",
   "execution_count": 60,
   "metadata": {},
   "outputs": [
    {
     "data": {
      "text/plain": [
       "(39, 14)"
      ]
     },
     "execution_count": 60,
     "metadata": {},
     "output_type": "execute_result"
    }
   ],
   "source": [
    "test.shape"
   ]
  },
  {
   "cell_type": "code",
   "execution_count": 61,
   "metadata": {},
   "outputs": [
    {
     "data": {
      "text/plain": [
       "0      114300\n",
       "1      114200\n",
       "2      114800\n",
       "3       94700\n",
       "4      119800\n",
       "        ...  \n",
       "123    119700\n",
       "124    147900\n",
       "125    113500\n",
       "126    149900\n",
       "127    124600\n",
       "Name: Price, Length: 128, dtype: int64"
      ]
     },
     "execution_count": 61,
     "metadata": {},
     "output_type": "execute_result"
    }
   ],
   "source": [
    "target"
   ]
  },
  {
   "cell_type": "code",
   "execution_count": 64,
   "metadata": {},
   "outputs": [
    {
     "data": {
      "text/plain": [
       "'ln_price ~ Brick_1+Neighborhood_North+Neighborhood_West+Bathrooms_3+Bedrooms_3+Bedrooms_4+Bedrooms_5+Offers_2+Offers_3+Offers_4+Offers_5'"
      ]
     },
     "execution_count": 64,
     "metadata": {},
     "output_type": "execute_result"
    }
   ],
   "source": [
    "'ln_price ~ ' + \"+\".join(Final_list)"
   ]
  },
  {
   "cell_type": "code",
   "execution_count": 65,
   "metadata": {},
   "outputs": [],
   "source": [
    "formula = 'ln_price ~ Brick_1+Neighborhood_North+Neighborhood_West+Bathrooms_3+Bedrooms_3+Bedrooms_4+Bedrooms_5+Offers_2+Offers_3+Offers_4+Offers_5'"
   ]
  },
  {
   "cell_type": "code",
   "execution_count": 66,
   "metadata": {},
   "outputs": [],
   "source": [
    "#ols_model = smp.ols(formula = 'y~x1+x2+x3+...', data=train).fit()\n",
    "ols_model = smp.ols(formula = formula, data=train).fit()"
   ]
  },
  {
   "cell_type": "code",
   "execution_count": 67,
   "metadata": {},
   "outputs": [
    {
     "name": "stdout",
     "output_type": "stream",
     "text": [
      "                            OLS Regression Results                            \n",
      "==============================================================================\n",
      "Dep. Variable:               ln_price   R-squared:                       0.745\n",
      "Model:                            OLS   Adj. R-squared:                  0.708\n",
      "Method:                 Least Squares   F-statistic:                     20.43\n",
      "Date:                Mon, 03 Feb 2020   Prob (F-statistic):           1.43e-18\n",
      "Time:                        21:48:37   Log-Likelihood:                 76.488\n",
      "No. Observations:                  89   AIC:                            -129.0\n",
      "Df Residuals:                      77   BIC:                            -99.11\n",
      "Df Model:                          11                                         \n",
      "Covariance Type:            nonrobust                                         \n",
      "======================================================================================\n",
      "                         coef    std err          t      P>|t|      [0.025      0.975]\n",
      "--------------------------------------------------------------------------------------\n",
      "Intercept             11.6110      0.042    273.582      0.000      11.526      11.695\n",
      "Brick_1                0.1432      0.030      4.828      0.000       0.084       0.202\n",
      "Neighborhood_North    -0.0549      0.031     -1.765      0.081      -0.117       0.007\n",
      "Neighborhood_West      0.1697      0.036      4.691      0.000       0.098       0.242\n",
      "Bathrooms_3            0.1264      0.027      4.741      0.000       0.073       0.180\n",
      "Bedrooms_3             0.0134      0.033      0.407      0.685      -0.052       0.079\n",
      "Bedrooms_4             0.1098      0.048      2.277      0.026       0.014       0.206\n",
      "Bedrooms_5             0.2796      0.120      2.329      0.022       0.041       0.519\n",
      "Offers_2               0.0082      0.037      0.219      0.828      -0.066       0.083\n",
      "Offers_3              -0.0445      0.038     -1.171      0.245      -0.120       0.031\n",
      "Offers_4              -0.0492      0.046     -1.081      0.283      -0.140       0.041\n",
      "Offers_5              -0.0275      0.086     -0.319      0.751      -0.200       0.145\n",
      "==============================================================================\n",
      "Omnibus:                        3.140   Durbin-Watson:                   2.267\n",
      "Prob(Omnibus):                  0.208   Jarque-Bera (JB):                2.516\n",
      "Skew:                          -0.392   Prob(JB):                        0.284\n",
      "Kurtosis:                       3.253   Cond. No.                         15.1\n",
      "==============================================================================\n",
      "\n",
      "Warnings:\n",
      "[1] Standard Errors assume that the covariance matrix of the errors is correctly specified.\n"
     ]
    }
   ],
   "source": [
    "print(ols_model.summary())"
   ]
  },
  {
   "cell_type": "code",
   "execution_count": 68,
   "metadata": {},
   "outputs": [],
   "source": [
    "train_predicted = np.exp(ols_model.predict(train))\n",
    "test_predicted = np.exp(ols_model.predict(test))"
   ]
  },
  {
   "cell_type": "code",
   "execution_count": 69,
   "metadata": {},
   "outputs": [],
   "source": [
    "train_actual = np.exp(train.ln_price)\n",
    "test_actual = np.exp(test.ln_price)"
   ]
  },
  {
   "cell_type": "code",
   "execution_count": 70,
   "metadata": {},
   "outputs": [],
   "source": [
    "train_RMSE = np.sqrt(np.mean(np.square(train_actual-train_predicted)))\n",
    "test_RMSE  = np.sqrt(np.mean(np.square(test_actual-test_predicted)))"
   ]
  },
  {
   "cell_type": "code",
   "execution_count": 71,
   "metadata": {},
   "outputs": [
    {
     "name": "stdout",
     "output_type": "stream",
     "text": [
      "12657.124000335089\n",
      "14823.88190794351\n"
     ]
    }
   ],
   "source": [
    "print(train_RMSE)\n",
    "print(test_RMSE)"
   ]
  },
  {
   "cell_type": "code",
   "execution_count": 72,
   "metadata": {},
   "outputs": [
    {
     "name": "stdout",
     "output_type": "stream",
     "text": [
      "0.0798957811889343\n",
      "0.08458797626281876\n"
     ]
    }
   ],
   "source": [
    "train_MAPE = np.mean(np.abs(train_actual-train_predicted)/train_actual)\n",
    "test_MAPE  = np.mean(np.abs(test_actual-test_predicted)/test_actual)\n",
    "print(train_MAPE)\n",
    "print(test_MAPE)"
   ]
  },
  {
   "cell_type": "code",
   "execution_count": 73,
   "metadata": {},
   "outputs": [
    {
     "name": "stdout",
     "output_type": "stream",
     "text": [
      "0.10554964760367794\n",
      "0.12359467421218516\n"
     ]
    }
   ],
   "source": [
    "train_RMSPE = np.sqrt(np.mean(np.square((train_actual-train_predicted)/train_actual)))\n",
    "test_RMSPE  = np.sqrt(np.mean(np.square((test_actual-test_predicted)/test_actual)))\n",
    "print(train_RMSPE)\n",
    "print(test_RMSPE)"
   ]
  },
  {
   "cell_type": "code",
   "execution_count": 74,
   "metadata": {},
   "outputs": [
    {
     "data": {
      "text/plain": [
       "array([[1.        , 0.88004631],\n",
       "       [0.88004631, 1.        ]])"
      ]
     },
     "execution_count": 74,
     "metadata": {},
     "output_type": "execute_result"
    }
   ],
   "source": [
    "np.corrcoef(train_actual, train_predicted)"
   ]
  },
  {
   "cell_type": "code",
   "execution_count": 75,
   "metadata": {},
   "outputs": [
    {
     "data": {
      "text/plain": [
       "array([[1.        , 0.84689613],\n",
       "       [0.84689613, 1.        ]])"
      ]
     },
     "execution_count": 75,
     "metadata": {},
     "output_type": "execute_result"
    }
   ],
   "source": [
    "np.corrcoef(test_actual, test_predicted)"
   ]
  },
  {
   "cell_type": "code",
   "execution_count": 76,
   "metadata": {},
   "outputs": [],
   "source": [
    "#assumptions check\n",
    "#Errors following normal distribution\n",
    "#Errors should not have relationship with Y\n",
    "\n",
    "train_errors = train_actual-train_predicted\n",
    "test_errors = test_actual-test_predicted"
   ]
  },
  {
   "cell_type": "code",
   "execution_count": 77,
   "metadata": {},
   "outputs": [
    {
     "data": {
      "text/plain": [
       "<matplotlib.axes._subplots.AxesSubplot at 0x10f7aefd0>"
      ]
     },
     "execution_count": 77,
     "metadata": {},
     "output_type": "execute_result"
    },
    {
     "data": {
      "image/png": "[encoded data removed]",
      "text/plain": [
       "<Figure size 432x288 with 1 Axes>"
      ]
     },
     "metadata": {
      "needs_background": "light"
     },
     "output_type": "display_data"
    }
   ],
   "source": [
    "sns.distplot(train_errors)"
   ]
  },
  {
   "cell_type": "code",
   "execution_count": 78,
   "metadata": {},
   "outputs": [
    {
     "data": {
      "text/plain": [
       "array([[1.        , 0.45919351],\n",
       "       [0.45919351, 1.        ]])"
      ]
     },
     "execution_count": 78,
     "metadata": {},
     "output_type": "execute_result"
    }
   ],
   "source": [
    "np.corrcoef(train_actual, train_errors)"
   ]
  },
  {
   "cell_type": "code",
   "execution_count": 79,
   "metadata": {},
   "outputs": [],
   "source": [
    "#Decile analysis\n",
    "train_results = pd.concat([train_actual, train_predicted], axis=1)\n",
    "test_results = pd.concat([test_actual, test_predicted], axis=1)"
   ]
  },
  {
   "cell_type": "code",
   "execution_count": 80,
   "metadata": {},
   "outputs": [],
   "source": [
    "train_results.columns = ['actual', 'pred']\n",
    "test_results.columns = ['actual', 'pred']"
   ]
  },
  {
   "cell_type": "code",
   "execution_count": 81,
   "metadata": {},
   "outputs": [],
   "source": [
    "train_results['Deciles']=pd.qcut(train_results['pred'],10, labels=False)"
   ]
  },
  {
   "cell_type": "code",
   "execution_count": 82,
   "metadata": {},
   "outputs": [],
   "source": [
    "test_results['Deciles']=pd.qcut(test_results['pred'],10, labels=False)"
   ]
  },
  {
   "cell_type": "code",
   "execution_count": 83,
   "metadata": {},
   "outputs": [
    {
     "data": {
      "text/html": [
       "<div>\n",
       "<style scoped>\n",
       "    .dataframe tbody tr th:only-of-type {\n",
       "        vertical-align: middle;\n",
       "    }\n",
       "\n",
       "    .dataframe tbody tr th {\n",
       "        vertical-align: top;\n",
       "    }\n",
       "\n",
       "    .dataframe thead th {\n",
       "        text-align: right;\n",
       "    }\n",
       "</style>\n",
       "<table border=\"1\" class=\"dataframe\">\n",
       "  <thead>\n",
       "    <tr style=\"text-align: right;\">\n",
       "      <th></th>\n",
       "      <th>actual</th>\n",
       "      <th>pred</th>\n",
       "    </tr>\n",
       "    <tr>\n",
       "      <th>Deciles</th>\n",
       "      <th></th>\n",
       "      <th></th>\n",
       "    </tr>\n",
       "  </thead>\n",
       "  <tbody>\n",
       "    <tr>\n",
       "      <td>0</td>\n",
       "      <td>102822.222222</td>\n",
       "      <td>100151.654926</td>\n",
       "    </tr>\n",
       "    <tr>\n",
       "      <td>1</td>\n",
       "      <td>102955.555556</td>\n",
       "      <td>103721.301682</td>\n",
       "    </tr>\n",
       "    <tr>\n",
       "      <td>2</td>\n",
       "      <td>104488.888889</td>\n",
       "      <td>107638.123432</td>\n",
       "    </tr>\n",
       "    <tr>\n",
       "      <td>3</td>\n",
       "      <td>112077.777778</td>\n",
       "      <td>113053.598270</td>\n",
       "    </tr>\n",
       "    <tr>\n",
       "      <td>4</td>\n",
       "      <td>118420.000000</td>\n",
       "      <td>119066.068441</td>\n",
       "    </tr>\n",
       "    <tr>\n",
       "      <td>5</td>\n",
       "      <td>133585.714286</td>\n",
       "      <td>124949.841132</td>\n",
       "    </tr>\n",
       "    <tr>\n",
       "      <td>6</td>\n",
       "      <td>134718.181818</td>\n",
       "      <td>130179.124977</td>\n",
       "    </tr>\n",
       "    <tr>\n",
       "      <td>7</td>\n",
       "      <td>137275.000000</td>\n",
       "      <td>140644.285919</td>\n",
       "    </tr>\n",
       "    <tr>\n",
       "      <td>8</td>\n",
       "      <td>157662.500000</td>\n",
       "      <td>153737.292504</td>\n",
       "    </tr>\n",
       "    <tr>\n",
       "      <td>9</td>\n",
       "      <td>174655.555556</td>\n",
       "      <td>178296.758407</td>\n",
       "    </tr>\n",
       "  </tbody>\n",
       "</table>\n",
       "</div>"
      ],
      "text/plain": [
       "                actual           pred\n",
       "Deciles                              \n",
       "0        102822.222222  100151.654926\n",
       "1        102955.555556  103721.301682\n",
       "2        104488.888889  107638.123432\n",
       "3        112077.777778  113053.598270\n",
       "4        118420.000000  119066.068441\n",
       "5        133585.714286  124949.841132\n",
       "6        134718.181818  130179.124977\n",
       "7        137275.000000  140644.285919\n",
       "8        157662.500000  153737.292504\n",
       "9        174655.555556  178296.758407"
      ]
     },
     "execution_count": 83,
     "metadata": {},
     "output_type": "execute_result"
    }
   ],
   "source": [
    "train_results.groupby(['Deciles']).apply(mean)[['actual','pred']]"
   ]
  },
  {
   "cell_type": "code",
   "execution_count": 84,
   "metadata": {},
   "outputs": [
    {
     "data": {
      "text/html": [
       "<div>\n",
       "<style scoped>\n",
       "    .dataframe tbody tr th:only-of-type {\n",
       "        vertical-align: middle;\n",
       "    }\n",
       "\n",
       "    .dataframe tbody tr th {\n",
       "        vertical-align: top;\n",
       "    }\n",
       "\n",
       "    .dataframe thead th {\n",
       "        text-align: right;\n",
       "    }\n",
       "</style>\n",
       "<table border=\"1\" class=\"dataframe\">\n",
       "  <thead>\n",
       "    <tr style=\"text-align: right;\">\n",
       "      <th></th>\n",
       "      <th>actual</th>\n",
       "      <th>pred</th>\n",
       "    </tr>\n",
       "    <tr>\n",
       "      <th>Deciles</th>\n",
       "      <th></th>\n",
       "      <th></th>\n",
       "    </tr>\n",
       "  </thead>\n",
       "  <tbody>\n",
       "    <tr>\n",
       "      <td>0</td>\n",
       "      <td>104700.0</td>\n",
       "      <td>101678.198053</td>\n",
       "    </tr>\n",
       "    <tr>\n",
       "      <td>1</td>\n",
       "      <td>112350.0</td>\n",
       "      <td>107168.677026</td>\n",
       "    </tr>\n",
       "    <tr>\n",
       "      <td>2</td>\n",
       "      <td>123150.0</td>\n",
       "      <td>116552.617450</td>\n",
       "    </tr>\n",
       "    <tr>\n",
       "      <td>3</td>\n",
       "      <td>114150.0</td>\n",
       "      <td>122587.666607</td>\n",
       "    </tr>\n",
       "    <tr>\n",
       "      <td>4</td>\n",
       "      <td>139875.0</td>\n",
       "      <td>130616.310063</td>\n",
       "    </tr>\n",
       "    <tr>\n",
       "      <td>5</td>\n",
       "      <td>137000.0</td>\n",
       "      <td>141055.972888</td>\n",
       "    </tr>\n",
       "    <tr>\n",
       "      <td>6</td>\n",
       "      <td>154680.0</td>\n",
       "      <td>148103.293695</td>\n",
       "    </tr>\n",
       "    <tr>\n",
       "      <td>7</td>\n",
       "      <td>150400.0</td>\n",
       "      <td>158105.680692</td>\n",
       "    </tr>\n",
       "    <tr>\n",
       "      <td>8</td>\n",
       "      <td>159775.0</td>\n",
       "      <td>174642.162252</td>\n",
       "    </tr>\n",
       "    <tr>\n",
       "      <td>9</td>\n",
       "      <td>177350.0</td>\n",
       "      <td>187268.892831</td>\n",
       "    </tr>\n",
       "  </tbody>\n",
       "</table>\n",
       "</div>"
      ],
      "text/plain": [
       "           actual           pred\n",
       "Deciles                         \n",
       "0        104700.0  101678.198053\n",
       "1        112350.0  107168.677026\n",
       "2        123150.0  116552.617450\n",
       "3        114150.0  122587.666607\n",
       "4        139875.0  130616.310063\n",
       "5        137000.0  141055.972888\n",
       "6        154680.0  148103.293695\n",
       "7        150400.0  158105.680692\n",
       "8        159775.0  174642.162252\n",
       "9        177350.0  187268.892831"
      ]
     },
     "execution_count": 84,
     "metadata": {},
     "output_type": "execute_result"
    }
   ],
   "source": [
    "test_results.groupby(['Deciles']).apply(mean)[['actual','pred']]"
   ]
  },
  {
   "cell_type": "code",
   "execution_count": 85,
   "metadata": {},
   "outputs": [],
   "source": [
    "#### Lets save everything in metrics_df to pickle object\n",
    "import pickle\n",
    "\n",
    "# now you can save it to a file\n",
    "with open('ols_model.pkl', 'wb') as f:\n",
    "    pickle.dump(ols_model, f)"
   ]
  },
  {
   "cell_type": "code",
   "execution_count": null,
   "metadata": {},
   "outputs": [],
   "source": [
    "# and later you can load it\n",
    "with open('ols_model.pkl', 'rb') as f:\n",
    "    model_new = pickle.load(f)"
   ]
  },
  {
   "cell_type": "code",
   "execution_count": null,
   "metadata": {},
   "outputs": [],
   "source": []
  }
 ],
 "metadata": {
  "kernelspec": {
   "display_name": "Python 3",
   "language": "python",
   "name": "python3"
  },
  "language_info": {
   "codemirror_mode": {
    "name": "ipython",
    "version": 3
   },
   "file_extension": ".py",
   "mimetype": "text/x-python",
   "name": "python",
   "nbconvert_exporter": "python",
   "pygments_lexer": "ipython3",
   "version": "3.7.3"
  }
 },
 "nbformat": 4,
 "nbformat_minor": 2
}
